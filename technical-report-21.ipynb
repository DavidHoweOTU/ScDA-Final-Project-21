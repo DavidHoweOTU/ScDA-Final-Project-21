{
  "nbformat": 4,
  "nbformat_minor": 0,
  "metadata": {
    "colab": {
      "name": "21-final.ipynb",
      "provenance": [],
      "collapsed_sections": []
    },
    "kernelspec": {
      "name": "python3",
      "display_name": "Python 3"
    },
    "language_info": {
      "name": "python"
    }
  },
  "cells": [
    {
      "cell_type": "markdown",
      "metadata": {
        "id": "X4y2CN-c52j9"
      },
      "source": [
        "<h1>\"Among Us\" Dataset - Technical Report\n",
        "\n",
        "<h2>Introduction\n",
        "\n",
        "Among Us is a game involving many variables and strategies. It's simple yet complex set of rules makes it a really interesting game and allows us to perform many types of analysis. <br>\n",
        "The game is similar to the popular game of \"Mafia\". A group of players first enter a lobby and the game then begins. In every round, a majority of the players are picked as \"Crewmates\", the good guys of the game, and 1-3 players can be picked as \"Imposters\" (the bad guys). The crewmates must complete a number of tasks within a given time limit in order to win, whereas, the imposters' goal is to kill all the crewmates before they complete the tasks. Imposters are also able to \"Sabotage\" parts of the location, like cause problems in the reactor or oxygen supply; when sabotaged, the crewmates must immediately fix the problem as waiting too long will end the game. The game will consist of Rounds, where a new round begins when a dead body is found or someone calls an \"Emergency Meeting\". At the end of each round the players talk and discuss the activities they did and if they suspect any other player to be an imposter, if enough people vote for a player to be thrown off, the player is ejected and it's game over for them. The imposters must lie and pretend to be crewmates and try to vote others off.<br>\n",
        "There are many strategic approaches to go with in this game and this dataset allows us to analyse many things, such as, what kind of plays were more likely to yield victories for \"Crewmates\" and \"Imposters\".\n",
        "\n",
        "In this report, we plan on answering the following questions using the selected dataset: <br>\n",
        "  1. Does voting out imposters significantly increase your chance of winning compared to doing all your tasks?<br>\n",
        "  2. Is it easier to win as a crewmate or as an imposter? <br>\n",
        "  3. Does completing more tasks increase your chances of getting murdered?<br>\n",
        "  4. How often are players able to correctly vote out imposters? <br>\n",
        "  5. Does fixing sabotages increase your chances of dying?\n",
        "\n",
        "This report's workload was distributed between involved members.\n",
        "Dewan was responsible for writing the introduction, potential data science, and answering questions with exploratory data analysis. Sameer was responsible for writing the discussion in exploratory data analysis, the conclusion, and part of the blog post. David was responsible for the data outline, data analysis and cleanup, graphing and coding in exploratory data analysis, and part of the blog post."
      ]
    },
    {
      "cell_type": "markdown",
      "metadata": {
        "id": "LCVT0ebc7O9z"
      },
      "source": [
        "<h2>Dataset Outline\n",
        "<p> The specific dataset we chose to study is <a href=\"https://www.kaggle.com/ruchi798/among-us-dataset\">\"Among Us Dataset\"</a> by Ruchi Bhatia on Kaggle. This data was recorded from games of Among Us by Bhatia and posted to Kaggle. The dataset itself is composed of multiple CSV files, each corresponding to a different player.\n",
        "\n",
        "<h2><br>Data Analysis\n",
        "<p>This dataset contains 13 unique columns by default:\n",
        "<br><b>Game Completed Date</b> - The exact date and time each recorded game ended.\n",
        "<br><b>Team</b> - \"Crewmate\" or \"Imposter\", denotes the player's objective for that game.\n",
        "<br><b>Outcome</b> - \"Win\" or \"Loss\", denotes whether the player won that game.\n",
        "<br><b>Task Completed</b> - The number of tasks the player completed.\n",
        "<br><b>All Tasks Completed</b> - \"Yes\", \"No\" or left empty if \"Team\" is \"Imposter\". Denotes whether the player completed all of their tasks.\n",
        "<br><b>Murdered</b> - Only filled if \"Team\" is \"Crewmate\". Whether the player was killed by an imposter.\n",
        "<br><b>Imposter Kills</b> - Only filled if \"Team\" is \"Imposter\". Denotes the number of crewmates the player killed.\n",
        "<br><b>Game Length</b> - The length of the recorded game. (XXm XXs)\n",
        "<br><b>Ejected</b> - \"Yes\" or \"No\". Whether they were voted out by other players.\n",
        "<br><b>Sabotages Fixed</b> - Denotes the number of sabotages the player fixed. (While imposters can technically fix sabotages, imposter games were recorded as \"N/A\".) \n",
        "<br><b>Time to complete all tasks</b> - Only filled if \"All Tasks Completed\" is \"Yes\". (XXm XXs)\n",
        "<br><b>Rank Change</b> - Denotes the change in rank after a game.\n",
        "<br><b>Region/Game Code</b> - Denotes the server region and game code. Region will always be \"NA\" or \"Europe\" (Region / GMCODE).\n",
        "\n",
        "<p>The entire dataset is composed of game information recorded by 29 players separated into 29 CSV files. The CSV files have varying numbers of entries ranging from 31 to 100.\n",
        "\n",
        "<p><br>This dataset, while easy to read, is difficult to analyze as it is now. There are multiple things we can do to make the dataset easier to analyze. To start, since each user's data is in a seperate CSV file, we can merge each file into one large DataFrame and add a new column which denotes which file each entry came from. It may also be useful to parse each numeric column into integers and dates into datetimes. We may want to switch all \"N/A\" and \"-\" to 0 in \"Sabotages Fixed\" and simply drop all \"Imposter\" games when analyzing these. Many of the timed metrics could be switched to integers measured in seconds rather than minutes and seconds."
      ]
    },
    {
      "cell_type": "code",
      "metadata": {
        "id": "Pbu5G9dw8iWl",
        "colab": {
          "base_uri": "https://localhost:8080/",
          "height": 213
        },
        "outputId": "28593624-52e3-4822-e2c3-68f3afb7ee3e"
      },
      "source": [
        "# Import libraries\n",
        "import csv\n",
        "import re\n",
        "from functools import reduce\n",
        "import numpy as np\n",
        "import pandas as pd\n",
        "import matplotlib.pyplot as plt\n",
        "import seaborn as sns\n",
        "\n",
        "# Read CSV data into a dictionary\n",
        "def get_data_csv():\n",
        "  master = []\n",
        "  collection = []\n",
        "  for i in range(1,30):\n",
        "    with open('User{0}.csv'.format(i), 'r') as f:\n",
        "          for line in csv.DictReader(f):\n",
        "              collection.append(line)\n",
        "          master.append(collection.copy())\n",
        "          collection = []\n",
        "  return master\n",
        "\n",
        "# Save dictionary to a variable\n",
        "data = get_data_csv()\n",
        "\n",
        "# Make DataFrame to store information \n",
        "df = pd.DataFrame()\n",
        "\n",
        "# Merge all files to one DataFrame\n",
        "for i in range(len(data)):\n",
        "  # Add new column \"User\" to denote original file\n",
        "  df = pd.concat([df, pd.DataFrame(data[i]).assign(User=i+1)])\n",
        "\n",
        "df.head(3)"
      ],
      "execution_count": null,
      "outputs": [
        {
          "output_type": "execute_result",
          "data": {
            "text/html": [
              "<div>\n",
              "<style scoped>\n",
              "    .dataframe tbody tr th:only-of-type {\n",
              "        vertical-align: middle;\n",
              "    }\n",
              "\n",
              "    .dataframe tbody tr th {\n",
              "        vertical-align: top;\n",
              "    }\n",
              "\n",
              "    .dataframe thead th {\n",
              "        text-align: right;\n",
              "    }\n",
              "</style>\n",
              "<table border=\"1\" class=\"dataframe\">\n",
              "  <thead>\n",
              "    <tr style=\"text-align: right;\">\n",
              "      <th></th>\n",
              "      <th>﻿Game Completed Date</th>\n",
              "      <th>Team</th>\n",
              "      <th>Outcome</th>\n",
              "      <th>Task Completed</th>\n",
              "      <th>All Tasks Completed</th>\n",
              "      <th>Murdered</th>\n",
              "      <th>Imposter Kills</th>\n",
              "      <th>Game Length</th>\n",
              "      <th>Ejected</th>\n",
              "      <th>Sabotages Fixed</th>\n",
              "      <th>Time to complete all tasks</th>\n",
              "      <th>Rank Change</th>\n",
              "      <th>Region/Game Code</th>\n",
              "      <th>User</th>\n",
              "    </tr>\n",
              "  </thead>\n",
              "  <tbody>\n",
              "    <tr>\n",
              "      <th>0</th>\n",
              "      <td>12/13/2020 at 1:26:56 am EST</td>\n",
              "      <td>Crewmate</td>\n",
              "      <td>Win</td>\n",
              "      <td>3</td>\n",
              "      <td>No</td>\n",
              "      <td>Yes</td>\n",
              "      <td>-</td>\n",
              "      <td>07m 04s</td>\n",
              "      <td>No</td>\n",
              "      <td>2</td>\n",
              "      <td>-</td>\n",
              "      <td>++</td>\n",
              "      <td>NA / WYMSBF</td>\n",
              "      <td>1</td>\n",
              "    </tr>\n",
              "    <tr>\n",
              "      <th>1</th>\n",
              "      <td>12/13/2020 at 1:17:42 am EST</td>\n",
              "      <td>Crewmate</td>\n",
              "      <td>Loss</td>\n",
              "      <td>7</td>\n",
              "      <td>Yes</td>\n",
              "      <td>No</td>\n",
              "      <td>-</td>\n",
              "      <td>16m 21s</td>\n",
              "      <td>No</td>\n",
              "      <td>1</td>\n",
              "      <td>09m 48s</td>\n",
              "      <td>--</td>\n",
              "      <td>NA / WYMSBF</td>\n",
              "      <td>1</td>\n",
              "    </tr>\n",
              "    <tr>\n",
              "      <th>2</th>\n",
              "      <td>12/13/2020 at 12:57:47 am EST</td>\n",
              "      <td>Crewmate</td>\n",
              "      <td>Win</td>\n",
              "      <td>3</td>\n",
              "      <td>No</td>\n",
              "      <td>No</td>\n",
              "      <td>-</td>\n",
              "      <td>11m 33s</td>\n",
              "      <td>No</td>\n",
              "      <td>0</td>\n",
              "      <td>-</td>\n",
              "      <td>++</td>\n",
              "      <td>NA / WYMSBF</td>\n",
              "      <td>1</td>\n",
              "    </tr>\n",
              "  </tbody>\n",
              "</table>\n",
              "</div>"
            ],
            "text/plain": [
              "            ﻿Game Completed Date      Team  ... Region/Game Code User\n",
              "0   12/13/2020 at 1:26:56 am EST  Crewmate  ...      NA / WYMSBF    1\n",
              "1   12/13/2020 at 1:17:42 am EST  Crewmate  ...      NA / WYMSBF    1\n",
              "2  12/13/2020 at 12:57:47 am EST  Crewmate  ...      NA / WYMSBF    1\n",
              "\n",
              "[3 rows x 14 columns]"
            ]
          },
          "metadata": {},
          "execution_count": 85
        }
      ]
    },
    {
      "cell_type": "code",
      "metadata": {
        "colab": {
          "base_uri": "https://localhost:8080/"
        },
        "id": "wT6RBCXTJDp3",
        "outputId": "65edb587-a255-4561-9b67-a2456597a31b"
      },
      "source": [
        "# Removing all strings from numerical categories\n",
        "numeric_categories = [\n",
        "  'Task Completed', \n",
        "  'Imposter Kills', \n",
        "  'Sabotages Fixed',\n",
        "  'Game Length',\n",
        "  'Time to complete all tasks'\n",
        "]\n",
        "\n",
        "for category in numeric_categories:\n",
        "  df = df.replace({category: r'N\\/A|-'}, {category: '0'}, regex=True)\n",
        "\n",
        "# Convert to seconds\n",
        "second_categories = [\n",
        "  'Game Length',\n",
        "  'Time to complete all tasks'\n",
        "]\n",
        "\n",
        "def func(x):\n",
        "  total = 0\n",
        "  p = zip([60, 1], map(int, x.split(' ')))\n",
        "  for s,t in p:\n",
        "    total += s*t\n",
        "  return str(total)\n",
        "\n",
        "for category in second_categories:\n",
        "  df = df.replace({category: r'[ms]'}, {category: ''}, regex=True)\n",
        "  df[category] = df.get(category).map(func)\n",
        "\n",
        "# Changing to int32\n",
        "for category in numeric_categories:\n",
        "  df = df.astype({category: np.int32})\n",
        "\n",
        "# Changing \"﻿Game Completed Date\" to datetime \"Game Completed Date\"\n",
        "df.insert(0, 'Game Completed Date', pd.to_datetime(\n",
        "    df.get('﻿Game Completed Date'), format='%m/%d/%Y at %I:%M:%S %p %Z')\n",
        ")\n",
        "df.drop(columns='﻿Game Completed Date', inplace=True)\n",
        "\n",
        "\n",
        "df.dtypes"
      ],
      "execution_count": null,
      "outputs": [
        {
          "output_type": "execute_result",
          "data": {
            "text/plain": [
              "Game Completed Date           datetime64[ns, EST]\n",
              "Team                                       object\n",
              "Outcome                                    object\n",
              "Task Completed                              int32\n",
              "All Tasks Completed                        object\n",
              "Murdered                                   object\n",
              "Imposter Kills                              int32\n",
              "Game Length                                 int32\n",
              "Ejected                                    object\n",
              "Sabotages Fixed                             int32\n",
              "Time to complete all tasks                  int32\n",
              "Rank Change                                object\n",
              "Region/Game Code                           object\n",
              "User                                        int64\n",
              "dtype: object"
            ]
          },
          "metadata": {},
          "execution_count": 86
        }
      ]
    },
    {
      "cell_type": "code",
      "metadata": {
        "colab": {
          "base_uri": "https://localhost:8080/",
          "height": 310
        },
        "id": "C2WuPvAQ1AVi",
        "outputId": "53e6d1d7-fbce-4a72-a4fc-4eda2c2850f8"
      },
      "source": [
        "df.head()"
      ],
      "execution_count": null,
      "outputs": [
        {
          "output_type": "execute_result",
          "data": {
            "text/html": [
              "<div>\n",
              "<style scoped>\n",
              "    .dataframe tbody tr th:only-of-type {\n",
              "        vertical-align: middle;\n",
              "    }\n",
              "\n",
              "    .dataframe tbody tr th {\n",
              "        vertical-align: top;\n",
              "    }\n",
              "\n",
              "    .dataframe thead th {\n",
              "        text-align: right;\n",
              "    }\n",
              "</style>\n",
              "<table border=\"1\" class=\"dataframe\">\n",
              "  <thead>\n",
              "    <tr style=\"text-align: right;\">\n",
              "      <th></th>\n",
              "      <th>Game Completed Date</th>\n",
              "      <th>Team</th>\n",
              "      <th>Outcome</th>\n",
              "      <th>Task Completed</th>\n",
              "      <th>All Tasks Completed</th>\n",
              "      <th>Murdered</th>\n",
              "      <th>Imposter Kills</th>\n",
              "      <th>Game Length</th>\n",
              "      <th>Ejected</th>\n",
              "      <th>Sabotages Fixed</th>\n",
              "      <th>Time to complete all tasks</th>\n",
              "      <th>Rank Change</th>\n",
              "      <th>Region/Game Code</th>\n",
              "      <th>User</th>\n",
              "    </tr>\n",
              "  </thead>\n",
              "  <tbody>\n",
              "    <tr>\n",
              "      <th>0</th>\n",
              "      <td>2020-12-13 01:26:56-05:00</td>\n",
              "      <td>Crewmate</td>\n",
              "      <td>Win</td>\n",
              "      <td>3</td>\n",
              "      <td>No</td>\n",
              "      <td>Yes</td>\n",
              "      <td>0</td>\n",
              "      <td>424</td>\n",
              "      <td>No</td>\n",
              "      <td>2</td>\n",
              "      <td>0</td>\n",
              "      <td>++</td>\n",
              "      <td>NA / WYMSBF</td>\n",
              "      <td>1</td>\n",
              "    </tr>\n",
              "    <tr>\n",
              "      <th>1</th>\n",
              "      <td>2020-12-13 01:17:42-05:00</td>\n",
              "      <td>Crewmate</td>\n",
              "      <td>Loss</td>\n",
              "      <td>7</td>\n",
              "      <td>Yes</td>\n",
              "      <td>No</td>\n",
              "      <td>0</td>\n",
              "      <td>981</td>\n",
              "      <td>No</td>\n",
              "      <td>1</td>\n",
              "      <td>588</td>\n",
              "      <td>--</td>\n",
              "      <td>NA / WYMSBF</td>\n",
              "      <td>1</td>\n",
              "    </tr>\n",
              "    <tr>\n",
              "      <th>2</th>\n",
              "      <td>2020-12-13 00:57:47-05:00</td>\n",
              "      <td>Crewmate</td>\n",
              "      <td>Win</td>\n",
              "      <td>3</td>\n",
              "      <td>No</td>\n",
              "      <td>No</td>\n",
              "      <td>0</td>\n",
              "      <td>693</td>\n",
              "      <td>No</td>\n",
              "      <td>0</td>\n",
              "      <td>0</td>\n",
              "      <td>++</td>\n",
              "      <td>NA / WYMSBF</td>\n",
              "      <td>1</td>\n",
              "    </tr>\n",
              "    <tr>\n",
              "      <th>3</th>\n",
              "      <td>2020-12-13 00:41:55-05:00</td>\n",
              "      <td>Imposter</td>\n",
              "      <td>Win</td>\n",
              "      <td>0</td>\n",
              "      <td>-</td>\n",
              "      <td>-</td>\n",
              "      <td>2</td>\n",
              "      <td>485</td>\n",
              "      <td>No</td>\n",
              "      <td>0</td>\n",
              "      <td>0</td>\n",
              "      <td>+++</td>\n",
              "      <td>Europe / QIRTNF</td>\n",
              "      <td>1</td>\n",
              "    </tr>\n",
              "    <tr>\n",
              "      <th>4</th>\n",
              "      <td>2020-12-13 00:30:37-05:00</td>\n",
              "      <td>Crewmate</td>\n",
              "      <td>Loss</td>\n",
              "      <td>4</td>\n",
              "      <td>No</td>\n",
              "      <td>No</td>\n",
              "      <td>0</td>\n",
              "      <td>310</td>\n",
              "      <td>No</td>\n",
              "      <td>0</td>\n",
              "      <td>0</td>\n",
              "      <td>---</td>\n",
              "      <td>Europe / QIRTNF</td>\n",
              "      <td>1</td>\n",
              "    </tr>\n",
              "  </tbody>\n",
              "</table>\n",
              "</div>"
            ],
            "text/plain": [
              "        Game Completed Date      Team  ... Region/Game Code  User\n",
              "0 2020-12-13 01:26:56-05:00  Crewmate  ...      NA / WYMSBF     1\n",
              "1 2020-12-13 01:17:42-05:00  Crewmate  ...      NA / WYMSBF     1\n",
              "2 2020-12-13 00:57:47-05:00  Crewmate  ...      NA / WYMSBF     1\n",
              "3 2020-12-13 00:41:55-05:00  Imposter  ...  Europe / QIRTNF     1\n",
              "4 2020-12-13 00:30:37-05:00  Crewmate  ...  Europe / QIRTNF     1\n",
              "\n",
              "[5 rows x 14 columns]"
            ]
          },
          "metadata": {},
          "execution_count": 87
        }
      ]
    },
    {
      "cell_type": "markdown",
      "metadata": {
        "id": "zn-l93yL8vHj"
      },
      "source": [
        "<h2>Exploratory Data Analysis\n",
        "<br><h3>1. Does voting out imposters significantly increase your chance of winning \n",
        "compared to doing all your tasks?"
      ]
    },
    {
      "cell_type": "code",
      "metadata": {
        "id": "yhHYBDdDSKNg",
        "colab": {
          "base_uri": "https://localhost:8080/",
          "height": 428
        },
        "outputId": "9ed957cd-8adb-41bc-91ba-ad3c9e2eb54f"
      },
      "source": [
        "# TODO\n",
        "#   - Filter games by 'Crewmate'\n",
        "#   - Compare \"All Tasks Completed\" and \"Outcome\" values\n",
        "\n",
        "crewmate = df[df['Team'] == 'Crewmate']\n",
        "one = crewmate[['All Tasks Completed', 'Outcome']]\n",
        "x = [0, 0, 0, 0]\n",
        "\n",
        "for i in range(0, len(one)):\n",
        "  j = 0\n",
        "  j += (0 if one.iloc[i, 0] == 'No' else 2)   # All Tasks Completed\n",
        "  j += (0 if one.iloc[i, 1] == 'Win' else 1)  # Outcome\n",
        "  x[j] += 1\n",
        "total = sum(x)\n",
        "x = list(map(lambda y: (y/total * 100), x))\n",
        "plt.pie(x=x, \n",
        "        labels=['Voted & Won', \n",
        "                'Voted & Lost', \n",
        "                'Finished Tasks & Won', \n",
        "                'Finished Tasks & Lost'], \n",
        "        colors=sns.color_palette('pastel')[0:4], radius=2, autopct=\"%.2f%%\")\n",
        "plt.title(\"Strategy and Winrate Distribution\", y=1.4)\n",
        "plt.show()"
      ],
      "execution_count": null,
      "outputs": [
        {
          "output_type": "display_data",
          "data": {
            "image/png": "[encoded data removed]",
            "text/plain": [
              "<Figure size 432x288 with 1 Axes>"
            ]
          },
          "metadata": {}
        }
      ]
    },
    {
      "cell_type": "markdown",
      "metadata": {
        "id": "wWVflcH1a8aZ"
      },
      "source": [
        "To analyse the data more visually regarding the win rate depending on if you voted or completed tasks, a pie chart is used which is also color coded.  Looking at this data analysis pie chart, it shows the win rate by voting the imposter out is 29.3% which is the higher win rate compared to doing the tasks which was 26.4%. But on the other hand the loss rate of voting (27.03%) is way higher than the loss rate of losing (17.26%).\n",
        "\n",
        "Conclusion: Working together to vote the imposter out it is the best chance to win the game, but if you taskmates want to play it safe and complete the set out tasks you have a extremely less likely chance of losing the game.\n",
        "\n",
        "<br><h3>2. Is it easier to win as a crewmate or as an imposter?"
      ]
    },
    {
      "cell_type": "code",
      "metadata": {
        "colab": {
          "base_uri": "https://localhost:8080/",
          "height": 419
        },
        "id": "O_BAmbgUa8z7",
        "outputId": "ae79efb9-142e-49bc-d5f2-c79bf8f3ea39"
      },
      "source": [
        "# TODO\n",
        "#   - Compare \"Team\" and \"Outcome\" values\n",
        "\n",
        "two = df[['Team', 'Outcome']]\n",
        "x = [0, 0, 0, 0]\n",
        "\n",
        "for i in range(0, len(two)):\n",
        "  j = 0\n",
        "  j += (0 if two.iloc[i, 0] == 'Crewmate' else 2)   # Team\n",
        "  j += (0 if two.iloc[i, 1] == 'Win' else 1)        # Outcome\n",
        "  x[j] += 1\n",
        "total = sum(x)\n",
        "x = list(map(lambda y: (y/total * 100), x))\n",
        "plt.pie(x=x, \n",
        "        labels=['Crewmate & Won', \n",
        "                'Crewmate & Lost', \n",
        "                'Imposter & Won', \n",
        "                'Imposter & Lost'], \n",
        "        colors=sns.color_palette('pastel')[0:4], radius=2, autopct=\"%.2f%%\")\n",
        "plt.title(\"Team and Winrate Distribution\", y=1.4)\n",
        "plt.show()"
      ],
      "execution_count": null,
      "outputs": [
        {
          "output_type": "display_data",
          "data": {
            "image/png": "[encoded data removed]",
            "text/plain": [
              "<Figure size 432x288 with 1 Axes>"
            ]
          },
          "metadata": {}
        }
      ]
    },
    {
      "cell_type": "markdown",
      "metadata": {
        "id": "oLtlsV5Oe77r"
      },
      "source": [
        "To analyse the data more visually regarding the win rate depending on if you are imposter or crewmate,a pie chart is used which is also color coded. Firstly, looking at the pie chart used to analyse this specific scenario, it is very clear that being a crewmate you have the highest win rate (44.1%) but also the highest losing rate (35%). Secondly, being imposter the win rate is low (11.7%) but not too much different from the losing rate (9.2%)\n",
        "\n",
        "Conclusion: Being a crewmate you have a significantly higher winrate due to numbers (multiple crewmates and maximum 2 imposters). BUT this high winrate is couples with a high losing rate so that means your chances of winning weigh highly on you having a capable set of crewmates that can work together to a  win. Now looking at the imposter loss/win percentage it seems it is very dependent on the specific ability of the imposter to win or lose.\n",
        "\n",
        "<br><h3>3. Does completing more tasks increase your chances of getting murdered?"
      ]
    },
    {
      "cell_type": "code",
      "metadata": {
        "id": "2TDBCc1pe8Tn",
        "colab": {
          "base_uri": "https://localhost:8080/",
          "height": 513
        },
        "outputId": "f4af7fcf-9888-4280-bddc-a2b7e8dd8248"
      },
      "source": [
        "# TODO\n",
        "#   - Filter games by 'Crewmate'\n",
        "#   - Compare \"Task Completed\" and \"Murdered\" values\n",
        "\n",
        "three = crewmate[['Task Completed', 'Murdered']]\n",
        "fig, ax = plt.subplots(figsize=(8,8))\n",
        "ax = sns.countplot(data=three, x='Task Completed', hue=\"Murdered\")\n",
        "ax.set_title(\"Distribution of Completed Tasks and Death Rate\");"
      ],
      "execution_count": null,
      "outputs": [
        {
          "output_type": "display_data",
          "data": {
            "image/png": "[encoded data removed]",
            "text/plain": [
              "<Figure size 576x576 with 1 Axes>"
            ]
          },
          "metadata": {
            "needs_background": "light"
          }
        }
      ]
    },
    {
      "cell_type": "markdown",
      "metadata": {
        "id": "rRNvjROQo2lQ"
      },
      "source": [
        "To analyse the data more visually regarding the correlation between # of tasks completed and the likelihood of getting murdered,a bar graph is used which is also color coded.\n",
        "From a range of 0 tasks to 10 it seems that normally up to completing 1-6 tasks you are not murdered, but after 6+ tasks the rate of dying significantly increases.\n",
        "\n",
        "<br> Conclusion: By trying to survive to the end game doing tasks throughout increases your chance of dying by alot especially as less and less crewmembers are alive by doing 6+ tasks its more likely for you to die by an imposter.\n",
        "\n",
        "<br><h3>4. How often are players able to correctly vote out imposters?"
      ]
    },
    {
      "cell_type": "code",
      "metadata": {
        "id": "-mh5lHPVo26Q",
        "colab": {
          "base_uri": "https://localhost:8080/",
          "height": 295
        },
        "outputId": "703c746c-a228-4961-f08d-f38c9c9375f2"
      },
      "source": [
        "# TODO\n",
        "#   - Compare \"Ejected\" and \"Team\" values\n",
        "\n",
        "four = df[['Ejected', 'Team']]\n",
        "x = [0, 0, 0, 0]\n",
        "\n",
        "for i in range(0, len(four)):\n",
        "  j = 0\n",
        "  j += (0 if four.iloc[i, 0] == 'Yes' else 2)       # Ejected\n",
        "  j += (0 if four.iloc[i, 1] == 'Crewmate' else 1)  # Team\n",
        "  x[j] += 1\n",
        "total = sum(x)\n",
        "n = np.array(x).reshape(2,2)\n",
        "\n",
        "ax = sns.heatmap(n, annot=True, cmap='Blues')\n",
        "ax.set_ylabel('Ejected')\n",
        "ax.set_xlabel('Team')\n",
        "\n",
        "ax.yaxis.set_ticklabels(['Ejected', 'Not Ejected'])\n",
        "ax.xaxis.set_ticklabels(['Crewmate', 'Imposter'])\n",
        "ax.set_title(\"Distribution of Ejections by Team\");\n",
        "\n",
        "plt.show()"
      ],
      "execution_count": null,
      "outputs": [
        {
          "output_type": "display_data",
          "data": {
            "image/png": "[encoded data removed]",
            "text/plain": [
              "<Figure size 432x288 with 2 Axes>"
            ]
          },
          "metadata": {
            "needs_background": "light"
          }
        }
      ]
    },
    {
      "cell_type": "markdown",
      "metadata": {
        "id": "Vg8SKkMMtyO-"
      },
      "source": [
        "To analyse the data more visually to see the number of ejections by team to their own crewmate or to an imposter a heatmap was used.\n",
        "\n",
        "<br> During these games there is alot of voting to weed out imposters many times teammembers are in disagreement to who is an imposter to be ejected. But overall it looks that 64% of the time the teammates are able to correctly vote out the imposter. We came to that parecentage by looking at the amount of time innocent crewmate were ejected (55) and the amount of time imposters were ejected (82) 55/82 = 0.64 x 100 = 64% which is a very good imposter detection/ejection rate.\n",
        "\n",
        "<br> Conclusions: Yes, 6 out of 10 times teammates correctly vote out the imposters.\n",
        "\n",
        "<br><h3>5. Does fixing sabotages increase your chances of dying?"
      ]
    },
    {
      "cell_type": "code",
      "metadata": {
        "id": "21t2QGcHtylU",
        "colab": {
          "base_uri": "https://localhost:8080/",
          "height": 513
        },
        "outputId": "a2c57035-80ec-4e20-e8b3-a7e082184ac5"
      },
      "source": [
        "# Does fixing sabotages increase your chances of dying?\n",
        "\n",
        "# TODO\n",
        "#   - Filter by crewmate\n",
        "#   - Compare \"Murdered\" and \"Sabotages Fixed\" values\n",
        "\n",
        "five = crewmate[['Murdered', 'Sabotages Fixed']]\n",
        "fig, ax = plt.subplots(figsize=(8,8))\n",
        "ax = sns.countplot(data=five, x='Sabotages Fixed', hue=\"Murdered\")\n",
        "ax.set_title(\"Distribution of Sabotages Fixed and Death Rate\");"
      ],
      "execution_count": null,
      "outputs": [
        {
          "output_type": "display_data",
          "data": {
            "image/png": "[encoded data removed]",
            "text/plain": [
              "<Figure size 576x576 with 1 Axes>"
            ]
          },
          "metadata": {
            "needs_background": "light"
          }
        }
      ]
    },
    {
      "cell_type": "markdown",
      "metadata": {
        "id": "TC_05nJLx-HG"
      },
      "source": [
        "To analyse the data more visually to see the correlation between fixing the sabotages and the rate of dying by an imposter a bar chart was used.\n",
        "\n",
        "<br>Looking at the bar chart it seems that NOT fixing the sabotages the rate of dying by an imposter was extremely high. When fixing one or more sabotage the rate of dying was drastically less.\n",
        "\n",
        "Conclusion: I will be able to conclude that fixing the sabotages you have a better chance of surviving that would be because when you are fixing the sabotages with you teammates you guys are able to deter the imposter from attempting to kill because if the imposter tried to the other teammate next to you would report the imposter just as you died. On the other hand if u stick to doing tasks and are seperated from your teammates fixing the sabotage then the imposter will have a easier chance of killing you.\n",
        "\n",
        "<br><h3>Reflection\n",
        "<p>After sorting through and analyzing the dataset, there were a few unexpected problems that made it significantly harder to analyze. First of all, and most prominently, when analyzing the data, we ran into a problem in which the first column was named '﻿Game Completed Date' with an odd symbol at the beginning. It isn't visible in the formatted report, but in the markdown editor, you can see it. This symbol was never shown in the Kaggle Dataset or when printing the DataFrame, so this caused lots of trouble when attempting to refer to its column.\n",
        "<br>Changing time measurements to integer seconds was also an interesting challenge, though it was relatively straightforward compared to the first issue."
      ]
    },
    {
      "cell_type": "markdown",
      "metadata": {
        "id": "fCz2JRd8-EuG"
      },
      "source": [
        "<h2>Potential Data Science\n",
        "<p> The dataset and its analysis touches a wide variety of information and patterns associated with it. Using machine learning, we can teach a machine to look at different variables and situations and make it take the best course of action in order to win. <br>\n",
        "<br>\n",
        "For example, when <b>Crewmate</b>, the AI could determine whether to focus on completing Tasks or try to roam and find the imposter and vote them out, at specific points of the game. In our analysis, we saw that the chance of death increases as the number of tasks done by a player increases. The chance of death significantly rises after completing 6 out of 8 tasks. So the AI may wish to stop focusing too much on tasks and observe the areas and other players if the majority of crewmates have already died. <br>\n",
        "<br>\n",
        "As an <b>Imposter</b>, the AI can predict at which point in the game it is most risky for an imposter to be identified or voted out and play accordingly, such as faking doing Tasks and not killing as frequently in order to blend with the crew better and patiently try to have them voted off. <br>\n",
        "<br>\n",
        "If we were to use a dataset which contained messeges from crewmates and imposters from different games, it could be fed into the machine to identify the most commonly used words or phrases by crewmates and imposters in order to figure out patterns and identify an Imposter by what they say. Or at what point in the game a \"Self-Report\" on a dead-body looks the least suspicious."
      ]
    },
    {
      "cell_type": "markdown",
      "metadata": {
        "id": "jSYEorVY-an4"
      },
      "source": [
        "<h2>Conclusion\n",
        "<p>Limitations and future directions:     \n",
        "Certain other statistics like, when someone dies, what map they played on, and where they died and records of chat messages from players would have been incredibly useful for coming to conlusions about efficient play styles. In future reports or analyses, getting more data and recording more types of info to do similar tests would be very helpful and allow our results to be more easily applicable to Among Us players.\n",
        "<p> Things we did not predict:  \n",
        "\n",
        "* We originally thought more sabotage fixes would lead to more murder, but it was the opposite.\n",
        "\n",
        "What we learned:\n",
        "*   By completing sabotages you are more likely to survive the duration of the game.\n",
        "*   Try to do the long tasks in the beginning of the game then the short ones torwards the end to have a better surivival rate.\n",
        "\n",
        "*   Ensure you have good teammates than can work together and be able to vote collectively to increase win rate.\n",
        "*   While only voting is a good way to win the game, still focus on your tasks as it is better chance for the long run to secure the win.\n",
        "\n",
        "\n",
        "\n",
        "\n"
      ]
    }
  ]
}